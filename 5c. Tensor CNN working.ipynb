{
 "cells": [
  {
   "cell_type": "code",
   "execution_count": 2,
   "id": "a490a594",
   "metadata": {},
   "outputs": [],
   "source": [
    "import numpy as np\n",
    "import pandas as pd\n",
    "import matplotlib.pyplot as plt\n",
    "import seaborn as sb\n",
    "sb.set()"
   ]
  },
  {
   "cell_type": "code",
   "execution_count": 3,
   "id": "97ee5951",
   "metadata": {},
   "outputs": [
    {
     "data": {
      "text/plain": [
       "'2.10.0'"
      ]
     },
     "execution_count": 3,
     "metadata": {},
     "output_type": "execute_result"
    }
   ],
   "source": [
    "import tensorflow as tf\n",
    "tf.__version__"
   ]
  },
  {
   "cell_type": "code",
   "execution_count": 4,
   "id": "b2533f8b",
   "metadata": {},
   "outputs": [],
   "source": [
    "#Function to Load Images & Labels\n",
    "import os\n",
    "from tqdm import tqdm  #Display Progress\n",
    "import cv2 #openCV\n",
    "\n",
    "def img_load(dataset):\n",
    "    IMAGE_SIZE = (150, 150)\n",
    "    output = []   \n",
    "    images = []\n",
    "    images_paths = []\n",
    "    labels = []\n",
    "    label_indexs = []\n",
    "    label_index=0\n",
    "    # Iterate through each folder corresponding to a category\n",
    "    for folder in os.listdir(dataset):\n",
    "        \n",
    "        # Iterate through each image in our folder\n",
    "        for file in tqdm(os.listdir(os.path.join(dataset, folder))):\n",
    "\n",
    "            # Get the path name of the image\n",
    "            img_path = os.path.join(os.path.join(dataset, folder), file)\n",
    "\n",
    "            # Open and resize the img\n",
    "            image = cv2.imread(img_path)\n",
    "            image = cv2.cvtColor(image, cv2.COLOR_BGR2RGB)\n",
    "            image = cv2.resize(image, IMAGE_SIZE) \n",
    "\n",
    "            # Append the image and its corresponding label to the output\n",
    "            images.append(image)\n",
    "            images_paths.append(os.path.join(folder, file))\n",
    "            labels.append(folder)\n",
    "            label_indexs.append(label_index)\n",
    "        label_index +=1\n",
    "    images = np.array(images, dtype = 'float32')\n",
    "    images_paths = np.array(images_paths, dtype = 'str')   \n",
    "    labels = np.array(labels, dtype = 'str')   \n",
    "    label_index = np.array(label_index, dtype = 'int32')\n",
    "    output.append((images, images_paths, labels, np.array(label_indexs)))\n",
    "\n",
    "    return output"
   ]
  },
  {
   "cell_type": "code",
   "execution_count": 5,
   "id": "ec964756",
   "metadata": {},
   "outputs": [
    {
     "name": "stderr",
     "output_type": "stream",
     "text": [
      "100%|████████████████████████████████████████████████████████████████████████████████| 214/214 [00:03<00:00, 67.56it/s]\n",
      "100%|████████████████████████████████████████████████████████████████████████████████| 624/624 [00:08<00:00, 72.41it/s]\n"
     ]
    }
   ],
   "source": [
    "#Loading Data (Training & Test Dataset)\n",
    "[(train_images, train_images_paths, train_labels, train_indexs)] = img_load('workingData\\Pictures\\_train\\person_gender')"
   ]
  },
  {
   "cell_type": "code",
   "execution_count": null,
   "id": "c5a1d72d",
   "metadata": {},
   "outputs": [],
   "source": [
    "#from sklearn.utils import shuffle \n",
    "#train_images, train_labels = shuffle(train_images, train_labels, random_state=25)"
   ]
  },
  {
   "cell_type": "markdown",
   "id": "4669ec17",
   "metadata": {},
   "source": [
    "## Data visualization"
   ]
  },
  {
   "cell_type": "code",
   "execution_count": null,
   "id": "3362c86a",
   "metadata": {},
   "outputs": [],
   "source": [
    "#Label Dataset Shape\n",
    "train_labels.shape[0]"
   ]
  },
  {
   "cell_type": "code",
   "execution_count": null,
   "id": "05f9d964",
   "metadata": {},
   "outputs": [],
   "source": [
    "np.unique(train_labels, return_counts=True)"
   ]
  },
  {
   "cell_type": "code",
   "execution_count": null,
   "id": "570fad8b",
   "metadata": {},
   "outputs": [],
   "source": [
    "_, train_counts = np.unique(train_indexs, return_counts=True)\n",
    "pd.DataFrame(np.unique(train_indexs, return_counts=True)).plot.bar(figsize=(3,2))\n",
    "plt.title('Label Count Per Dataset')\n",
    "plt.show()"
   ]
  },
  {
   "cell_type": "code",
   "execution_count": 6,
   "id": "9d9c9da7",
   "metadata": {},
   "outputs": [],
   "source": [
    "#Scale the data\n",
    "train_images = train_images / 255.0\n",
    "#test_images = test_images / 255.0"
   ]
  },
  {
   "cell_type": "markdown",
   "id": "afe762b1",
   "metadata": {},
   "source": [
    "## Model"
   ]
  },
  {
   "cell_type": "code",
   "execution_count": 7,
   "id": "e6fc8742",
   "metadata": {},
   "outputs": [],
   "source": [
    "#Build Model\n",
    "model = tf.keras.Sequential([\n",
    "    tf.keras.layers.Conv2D(32, (3, 3), activation = 'relu', input_shape = (150, 150, 3)), \n",
    "    tf.keras.layers.MaxPooling2D(2,2),\n",
    "    tf.keras.layers.Conv2D(32, (3, 3), activation = 'relu'),\n",
    "    tf.keras.layers.MaxPooling2D(2,2),\n",
    "    tf.keras.layers.Flatten(),\n",
    "    tf.keras.layers.Dense(128, activation=tf.nn.relu),\n",
    "    tf.keras.layers.Dense(8, activation=tf.nn.softmax)\n",
    "])"
   ]
  },
  {
   "cell_type": "code",
   "execution_count": null,
   "id": "fed2069f",
   "metadata": {},
   "outputs": [],
   "source": [
    "model.summary()"
   ]
  },
  {
   "cell_type": "code",
   "execution_count": 8,
   "id": "97d841f9",
   "metadata": {},
   "outputs": [],
   "source": [
    "#Compile Model\n",
    "model.compile(optimizer = 'adam', loss = 'sparse_categorical_crossentropy', metrics=['accuracy'])"
   ]
  },
  {
   "cell_type": "code",
   "execution_count": 9,
   "id": "55488895",
   "metadata": {},
   "outputs": [
    {
     "name": "stdout",
     "output_type": "stream",
     "text": [
      "Epoch 1/10\n",
      "7/7 [==============================] - 5s 635ms/step - loss: 1.4589 - accuracy: 0.6104 - val_loss: 0.4411 - val_accuracy: 1.0000\n",
      "Epoch 2/10\n",
      "7/7 [==============================] - 6s 808ms/step - loss: 0.6590 - accuracy: 0.7313 - val_loss: 0.1707 - val_accuracy: 1.0000\n",
      "Epoch 3/10\n",
      "7/7 [==============================] - 6s 802ms/step - loss: 0.4892 - accuracy: 0.7642 - val_loss: 0.1587 - val_accuracy: 0.9702\n",
      "Epoch 4/10\n",
      "7/7 [==============================] - 5s 775ms/step - loss: 0.4087 - accuracy: 0.8358 - val_loss: 0.4520 - val_accuracy: 0.8095\n",
      "Epoch 5/10\n",
      "7/7 [==============================] - 6s 850ms/step - loss: 0.3280 - accuracy: 0.8821 - val_loss: 0.2768 - val_accuracy: 0.8869\n",
      "Epoch 6/10\n",
      "7/7 [==============================] - 6s 858ms/step - loss: 0.2659 - accuracy: 0.9030 - val_loss: 0.1275 - val_accuracy: 0.9762\n",
      "Epoch 7/10\n",
      "7/7 [==============================] - 6s 808ms/step - loss: 0.2337 - accuracy: 0.8985 - val_loss: 0.1979 - val_accuracy: 0.9345\n",
      "Epoch 8/10\n",
      "7/7 [==============================] - 6s 799ms/step - loss: 0.1679 - accuracy: 0.9522 - val_loss: 0.2895 - val_accuracy: 0.8929\n",
      "Epoch 9/10\n",
      "7/7 [==============================] - 6s 811ms/step - loss: 0.1438 - accuracy: 0.9537 - val_loss: 0.2778 - val_accuracy: 0.8929\n",
      "Epoch 10/10\n",
      "7/7 [==============================] - 6s 809ms/step - loss: 0.0998 - accuracy: 0.9821 - val_loss: 0.2505 - val_accuracy: 0.9107\n"
     ]
    }
   ],
   "source": [
    "#Training the Model\n",
    "history = model.fit(train_images, train_indexs, batch_size=100, epochs=10, validation_split = 0.2)"
   ]
  },
  {
   "cell_type": "code",
   "execution_count": 10,
   "id": "79d6e75c",
   "metadata": {},
   "outputs": [
    {
     "name": "stdout",
     "output_type": "stream",
     "text": [
      "27/27 [==============================] - 1s 35ms/step\n"
     ]
    },
    {
     "data": {
      "text/plain": [
       "array([0, 0, 0, 0, 0, 0, 0, 0, 0, 0, 0, 0, 0, 0, 0, 0, 0, 0, 0, 0, 0, 0,\n",
       "       0, 0, 0, 0, 0, 0, 0, 0, 0, 0, 0, 0, 0, 0, 0, 0, 0, 0, 0, 0, 0, 0,\n",
       "       0, 0, 0, 0, 0, 0, 0, 0, 0, 0, 0, 0, 0, 0, 0, 0, 0, 0, 0, 0, 0, 0,\n",
       "       0, 0, 0, 0, 0, 0, 0, 0, 0, 0, 0, 0, 0, 0, 0, 0, 0, 0, 0, 0, 0, 0,\n",
       "       0, 0, 0, 0, 0, 0, 0, 0, 1, 0, 0, 0, 0, 0, 0, 0, 0, 0, 0, 0, 0, 0,\n",
       "       0, 0, 0, 0, 0, 0, 0, 0, 0, 0, 0, 0, 0, 0, 0, 0, 0, 0, 0, 0, 0, 0,\n",
       "       0, 0, 0, 0, 0, 0, 0, 0, 0, 0, 0, 0, 0, 0, 0, 0, 0, 0, 0, 0, 0, 0,\n",
       "       0, 0, 0, 0, 0, 0, 0, 0, 0, 0, 0, 0, 0, 0, 0, 0, 0, 0, 0, 0, 0, 0,\n",
       "       0, 0, 0, 0, 0, 0, 0, 0, 0, 0, 0, 0, 0, 0, 0, 0, 0, 0, 0, 0, 0, 0,\n",
       "       0, 0, 0, 0, 0, 0, 0, 0, 0, 0, 0, 0, 0, 0, 0, 0, 1, 1, 1, 1, 1, 1,\n",
       "       1, 1, 1, 1, 0, 1, 1, 1, 1, 1, 1, 1, 1, 1, 1, 1, 1, 1, 1, 1, 1, 1,\n",
       "       1, 1, 1, 1, 1, 1, 1, 1, 1, 1, 1, 1, 1, 1, 1, 1, 1, 1, 1, 1, 1, 1,\n",
       "       1, 1, 1, 1, 1, 1, 1, 1, 1, 1, 1, 1, 1, 1, 1, 1, 1, 1, 1, 1, 1, 1,\n",
       "       1, 1, 1, 1, 1, 1, 0, 1, 1, 1, 1, 1, 1, 1, 1, 1, 1, 1, 1, 1, 1, 1,\n",
       "       1, 1, 1, 1, 1, 1, 1, 1, 1, 1, 1, 1, 1, 1, 1, 1, 1, 1, 1, 1, 1, 1,\n",
       "       1, 1, 1, 1, 1, 1, 1, 1, 1, 1, 1, 1, 1, 1, 1, 0, 1, 1, 1, 1, 1, 1,\n",
       "       1, 1, 1, 1, 1, 1, 1, 1, 1, 1, 1, 1, 1, 1, 1, 1, 1, 1, 1, 1, 1, 1,\n",
       "       1, 1, 1, 1, 1, 1, 1, 1, 1, 1, 1, 1, 1, 1, 1, 1, 1, 1, 1, 1, 1, 1,\n",
       "       1, 1, 1, 1, 1, 1, 1, 1, 1, 1, 1, 1, 0, 1, 1, 1, 1, 1, 1, 1, 1, 1,\n",
       "       1, 1, 1, 1, 1, 1, 1, 1, 1, 1, 1, 1, 1, 1, 1, 1, 1, 1, 1, 1, 1, 1,\n",
       "       1, 1, 1, 1, 1, 1, 1, 1, 1, 1, 1, 1, 1, 1, 1, 1, 1, 1, 1, 1, 1, 1,\n",
       "       1, 1, 1, 1, 1, 1, 1, 1, 1, 1, 1, 1, 1, 1, 1, 1, 1, 1, 1, 1, 1, 1,\n",
       "       1, 1, 1, 1, 1, 1, 1, 1, 1, 1, 1, 1, 1, 1, 1, 1, 1, 1, 1, 1, 1, 1,\n",
       "       1, 1, 1, 1, 1, 1, 1, 1, 1, 1, 1, 1, 1, 1, 1, 1, 1, 1, 1, 1, 1, 1,\n",
       "       1, 1, 1, 1, 1, 1, 1, 1, 1, 1, 1, 1, 1, 1, 1, 1, 1, 1, 1, 1, 1, 1,\n",
       "       1, 1, 1, 1, 1, 1, 1, 1, 1, 1, 0, 1, 1, 1, 1, 1, 1, 1, 1, 1, 1, 1,\n",
       "       1, 1, 1, 1, 1, 1, 1, 1, 1, 1, 1, 1, 1, 1, 1, 1, 1, 1, 1, 1, 1, 1,\n",
       "       1, 1, 1, 1, 1, 1, 1, 1, 1, 1, 1, 1, 1, 1, 1, 1, 1, 1, 1, 1, 1, 1,\n",
       "       1, 1, 1, 1, 1, 1, 1, 1, 1, 1, 1, 1, 1, 1, 1, 1, 1, 1, 1, 1, 1, 1,\n",
       "       1, 1, 1, 1, 1, 1, 1, 1, 1, 1, 1, 1, 1, 1, 1, 1, 1, 1, 1, 1, 1, 1,\n",
       "       1, 1, 1, 1, 1, 1, 1, 1, 1, 1, 1, 1, 1, 1, 1, 1, 1, 1, 1, 1, 1, 1,\n",
       "       1, 1, 1, 1, 1, 1, 1, 1, 1, 1, 1, 1, 1, 1, 1, 1, 1, 1, 1, 1, 1, 1,\n",
       "       1, 1, 1, 1, 1, 1, 1, 1, 1, 1, 1, 1, 1, 1, 1, 1, 1, 1, 1, 1, 1, 1,\n",
       "       1, 1, 1, 1, 1, 1, 1, 1, 1, 1, 1, 1, 1, 1, 1, 1, 1, 0, 1, 1, 1, 1,\n",
       "       1, 1, 1, 1, 1, 1, 0, 1, 1, 0, 1, 1, 1, 1, 1, 1, 1, 1, 0, 0, 1, 1,\n",
       "       1, 0, 0, 0, 0, 1, 1, 1, 1, 0, 1, 1, 1, 1, 1, 1, 0, 1, 1, 1, 1, 1,\n",
       "       1, 1, 0, 1, 1, 1, 1, 1, 1, 1, 1, 1, 1, 1, 1, 1, 1, 1, 1, 1, 1, 1,\n",
       "       1, 1, 1, 1, 1, 1, 1, 0, 1, 0, 1, 1, 1, 1, 1, 1, 1, 0, 1, 1, 1, 1,\n",
       "       1, 1], dtype=int64)"
      ]
     },
     "execution_count": 10,
     "metadata": {},
     "output_type": "execute_result"
    }
   ],
   "source": [
    "predictions = model.predict(train_images)     # Vector of probabilities\n",
    "pred_labels = np.argmax(predictions, axis = 1) # We take the highest probability\n",
    "pred_labels"
   ]
  },
  {
   "cell_type": "code",
   "execution_count": 11,
   "id": "1e5b0c48",
   "metadata": {},
   "outputs": [
    {
     "data": {
      "text/html": [
       "<div>\n",
       "<style scoped>\n",
       "    .dataframe tbody tr th:only-of-type {\n",
       "        vertical-align: middle;\n",
       "    }\n",
       "\n",
       "    .dataframe tbody tr th {\n",
       "        vertical-align: top;\n",
       "    }\n",
       "\n",
       "    .dataframe thead th {\n",
       "        text-align: right;\n",
       "    }\n",
       "</style>\n",
       "<table border=\"1\" class=\"dataframe\">\n",
       "  <thead>\n",
       "    <tr style=\"text-align: right;\">\n",
       "      <th></th>\n",
       "      <th>images_paths</th>\n",
       "      <th>indexs</th>\n",
       "      <th>prediction</th>\n",
       "    </tr>\n",
       "  </thead>\n",
       "  <tbody>\n",
       "    <tr>\n",
       "      <th>96</th>\n",
       "      <td>person_Female\\person_0479.jpg</td>\n",
       "      <td>0</td>\n",
       "      <td>1</td>\n",
       "    </tr>\n",
       "    <tr>\n",
       "      <th>224</th>\n",
       "      <td>person_Male\\person_0011.jpg</td>\n",
       "      <td>1</td>\n",
       "      <td>0</td>\n",
       "    </tr>\n",
       "    <tr>\n",
       "      <th>292</th>\n",
       "      <td>person_Male\\person_0079.jpg</td>\n",
       "      <td>1</td>\n",
       "      <td>0</td>\n",
       "    </tr>\n",
       "    <tr>\n",
       "      <th>345</th>\n",
       "      <td>person_Male\\person_0287.jpg</td>\n",
       "      <td>1</td>\n",
       "      <td>0</td>\n",
       "    </tr>\n",
       "    <tr>\n",
       "      <th>408</th>\n",
       "      <td>person_Male\\person_0382.jpg</td>\n",
       "      <td>1</td>\n",
       "      <td>0</td>\n",
       "    </tr>\n",
       "    <tr>\n",
       "      <th>560</th>\n",
       "      <td>person_Male\\person_0627.jpg</td>\n",
       "      <td>1</td>\n",
       "      <td>0</td>\n",
       "    </tr>\n",
       "    <tr>\n",
       "      <th>743</th>\n",
       "      <td>person_Male\\person_0859.jpg</td>\n",
       "      <td>1</td>\n",
       "      <td>0</td>\n",
       "    </tr>\n",
       "    <tr>\n",
       "      <th>754</th>\n",
       "      <td>person_Male\\person_0870.jpg</td>\n",
       "      <td>1</td>\n",
       "      <td>0</td>\n",
       "    </tr>\n",
       "    <tr>\n",
       "      <th>757</th>\n",
       "      <td>person_Male\\person_0873.jpg</td>\n",
       "      <td>1</td>\n",
       "      <td>0</td>\n",
       "    </tr>\n",
       "    <tr>\n",
       "      <th>766</th>\n",
       "      <td>person_Male\\person_0882.jpg</td>\n",
       "      <td>1</td>\n",
       "      <td>0</td>\n",
       "    </tr>\n",
       "    <tr>\n",
       "      <th>767</th>\n",
       "      <td>person_Male\\person_0883.jpg</td>\n",
       "      <td>1</td>\n",
       "      <td>0</td>\n",
       "    </tr>\n",
       "    <tr>\n",
       "      <th>771</th>\n",
       "      <td>person_Male\\person_0887.jpg</td>\n",
       "      <td>1</td>\n",
       "      <td>0</td>\n",
       "    </tr>\n",
       "    <tr>\n",
       "      <th>772</th>\n",
       "      <td>person_Male\\person_0888.jpg</td>\n",
       "      <td>1</td>\n",
       "      <td>0</td>\n",
       "    </tr>\n",
       "    <tr>\n",
       "      <th>773</th>\n",
       "      <td>person_Male\\person_0890.jpg</td>\n",
       "      <td>1</td>\n",
       "      <td>0</td>\n",
       "    </tr>\n",
       "    <tr>\n",
       "      <th>774</th>\n",
       "      <td>person_Male\\person_0891.jpg</td>\n",
       "      <td>1</td>\n",
       "      <td>0</td>\n",
       "    </tr>\n",
       "    <tr>\n",
       "      <th>779</th>\n",
       "      <td>person_Male\\person_0896.jpg</td>\n",
       "      <td>1</td>\n",
       "      <td>0</td>\n",
       "    </tr>\n",
       "    <tr>\n",
       "      <th>786</th>\n",
       "      <td>person_Male\\person_0903.jpg</td>\n",
       "      <td>1</td>\n",
       "      <td>0</td>\n",
       "    </tr>\n",
       "    <tr>\n",
       "      <th>794</th>\n",
       "      <td>person_Male\\person_0920.jpg</td>\n",
       "      <td>1</td>\n",
       "      <td>0</td>\n",
       "    </tr>\n",
       "    <tr>\n",
       "      <th>821</th>\n",
       "      <td>person_Male\\person_0951.jpg</td>\n",
       "      <td>1</td>\n",
       "      <td>0</td>\n",
       "    </tr>\n",
       "    <tr>\n",
       "      <th>823</th>\n",
       "      <td>person_Male\\person_0953.jpg</td>\n",
       "      <td>1</td>\n",
       "      <td>0</td>\n",
       "    </tr>\n",
       "  </tbody>\n",
       "</table>\n",
       "</div>"
      ],
      "text/plain": [
       "                      images_paths  indexs  prediction\n",
       "96   person_Female\\person_0479.jpg       0           1\n",
       "224    person_Male\\person_0011.jpg       1           0\n",
       "292    person_Male\\person_0079.jpg       1           0\n",
       "345    person_Male\\person_0287.jpg       1           0\n",
       "408    person_Male\\person_0382.jpg       1           0\n",
       "560    person_Male\\person_0627.jpg       1           0\n",
       "743    person_Male\\person_0859.jpg       1           0\n",
       "754    person_Male\\person_0870.jpg       1           0\n",
       "757    person_Male\\person_0873.jpg       1           0\n",
       "766    person_Male\\person_0882.jpg       1           0\n",
       "767    person_Male\\person_0883.jpg       1           0\n",
       "771    person_Male\\person_0887.jpg       1           0\n",
       "772    person_Male\\person_0888.jpg       1           0\n",
       "773    person_Male\\person_0890.jpg       1           0\n",
       "774    person_Male\\person_0891.jpg       1           0\n",
       "779    person_Male\\person_0896.jpg       1           0\n",
       "786    person_Male\\person_0903.jpg       1           0\n",
       "794    person_Male\\person_0920.jpg       1           0\n",
       "821    person_Male\\person_0951.jpg       1           0\n",
       "823    person_Male\\person_0953.jpg       1           0"
      ]
     },
     "execution_count": 11,
     "metadata": {},
     "output_type": "execute_result"
    }
   ],
   "source": [
    "pf = pd.DataFrame(train_images_paths, columns=['images_paths'])\n",
    "pf['indexs']=train_indexs\n",
    "pf['prediction']=pred_labels\n",
    "pf[pf['indexs'] != pf['prediction']].head(20)"
   ]
  },
  {
   "cell_type": "code",
   "execution_count": 12,
   "id": "109142d4",
   "metadata": {},
   "outputs": [
    {
     "data": {
      "text/plain": [
       "indexs  prediction\n",
       "0       0             213\n",
       "        1               1\n",
       "1       0              20\n",
       "        1             604\n",
       "Name: prediction, dtype: int64"
      ]
     },
     "execution_count": 12,
     "metadata": {},
     "output_type": "execute_result"
    }
   ],
   "source": [
    "pf.groupby(['indexs','prediction'])['prediction'].count()"
   ]
  },
  {
   "cell_type": "code",
   "execution_count": 1,
   "id": "3c44a708",
   "metadata": {},
   "outputs": [
    {
     "ename": "NameError",
     "evalue": "name 'pf' is not defined",
     "output_type": "error",
     "traceback": [
      "\u001b[1;31m---------------------------------------------------------------------------\u001b[0m",
      "\u001b[1;31mNameError\u001b[0m                                 Traceback (most recent call last)",
      "Cell \u001b[1;32mIn[1], line 3\u001b[0m\n\u001b[0;32m      1\u001b[0m rootlocation\u001b[38;5;241m=\u001b[39m\u001b[38;5;124m'\u001b[39m\u001b[38;5;124mworkingData\u001b[39m\u001b[38;5;124m\\\u001b[39m\u001b[38;5;124mPictures\u001b[39m\u001b[38;5;124m\\\u001b[39m\u001b[38;5;124m_train\u001b[39m\u001b[38;5;124m\\\u001b[39m\u001b[38;5;124mperson_gender\u001b[39m\u001b[38;5;130;01m\\\\\u001b[39;00m\u001b[38;5;124m'\u001b[39m\n\u001b[0;32m      2\u001b[0m dipaly_index\u001b[38;5;241m=\u001b[39m[\u001b[38;5;241m832\u001b[39m,\u001b[38;5;241m825\u001b[39m,\u001b[38;5;241m823\u001b[39m,\u001b[38;5;241m821\u001b[39m,\u001b[38;5;241m197\u001b[39m]\n\u001b[1;32m----> 3\u001b[0m plt_df\u001b[38;5;241m=\u001b[39m\u001b[43mpf\u001b[49m\n\u001b[0;32m      5\u001b[0m fig, axes \u001b[38;5;241m=\u001b[39m plt\u001b[38;5;241m.\u001b[39msubplots(\u001b[38;5;241m1\u001b[39m, np\u001b[38;5;241m.\u001b[39msize(dipaly_index) , figsize\u001b[38;5;241m=\u001b[39m(\u001b[38;5;241m12\u001b[39m,\u001b[38;5;241m4\u001b[39m))\n\u001b[0;32m      6\u001b[0m \u001b[38;5;28;01mfor\u001b[39;00m idx, ax \u001b[38;5;129;01min\u001b[39;00m \u001b[38;5;28mzip\u001b[39m(dipaly_index, axes\u001b[38;5;241m.\u001b[39mravel()):\n",
      "\u001b[1;31mNameError\u001b[0m: name 'pf' is not defined"
     ]
    }
   ],
   "source": [
    "rootlocation='workingData\\Pictures\\_train\\person_gender\\\\'\n",
    "dipaly_index=[832,825,823,821,197]\n",
    "plt_df=pf\n",
    "\n",
    "fig, axes = plt.subplots(1, np.size(dipaly_index) , figsize=(12,4))\n",
    "for idx, ax in zip(dipaly_index, axes.ravel()):\n",
    "    image = cv2.imread(rootlocation+plt_df['images_paths'][idx])\n",
    "    ax.grid(False)\n",
    "    ax.xaxis.set_visible(False)\n",
    "    ax.yaxis.set_visible(False)\n",
    "    ax.set_title('-'+ str(plt_df['indexs'][idx]) + ' | Pred- '+ str(plt_df['prediction'][idx]), size=8)\n",
    "    ax.imshow(image[:,:,::-1]) # plot image into the subplot"
   ]
  },
  {
   "cell_type": "markdown",
   "id": "3607d51f",
   "metadata": {},
   "source": [
    "## Model Testing"
   ]
  },
  {
   "cell_type": "code",
   "execution_count": null,
   "id": "0326b2ba",
   "metadata": {},
   "outputs": [],
   "source": [
    "#Loading Data (Training & Test Dataset)\n",
    "[(test_images, test_images_paths, test_labels, test_indexs)] = img_load('workingData\\Pictures\\_test\\person_gender')"
   ]
  },
  {
   "cell_type": "code",
   "execution_count": null,
   "id": "0772f53c",
   "metadata": {},
   "outputs": [],
   "source": [
    "test_loss = model.evaluate(test_images, test_indexs)"
   ]
  },
  {
   "cell_type": "code",
   "execution_count": null,
   "id": "7799a6ae",
   "metadata": {},
   "outputs": [],
   "source": [
    "#garbage collection to save memory\n",
    "import gc\n",
    "gc.collect()"
   ]
  },
  {
   "cell_type": "code",
   "execution_count": null,
   "id": "e64b0f39",
   "metadata": {},
   "outputs": [],
   "source": [
    "predictions = model.predict(test_images)     # Vector of probabilities\n",
    "pred_labels = np.argmax(predictions, axis = 1) # We take the highest probability\n",
    "pred_labels"
   ]
  },
  {
   "cell_type": "code",
   "execution_count": null,
   "id": "ec30defe",
   "metadata": {},
   "outputs": [],
   "source": [
    "pf_test = pd.DataFrame(test_images_paths, columns=['images_paths'])\n",
    "pf_test['labels']=test_labels\n",
    "pf_test['indexs']=test_indexs\n",
    "pf_test['prediction']=pred_labels\n",
    "pf_test[pf_test['indexs'] != pf_test['prediction']]"
   ]
  },
  {
   "cell_type": "code",
   "execution_count": null,
   "id": "393186c2",
   "metadata": {},
   "outputs": [],
   "source": [
    "#np.count(pf_test['indexs']\n",
    "#np.unique(pf_test[['indexs','prediction']], return_counts=True)\n",
    "pf_test.groupby(['indexs','prediction'])['prediction'].count()"
   ]
  },
  {
   "cell_type": "code",
   "execution_count": null,
   "id": "60c5a51f",
   "metadata": {},
   "outputs": [],
   "source": [
    "rootlocation='workingData\\Pictures\\_test\\person_gender\\\\'\n",
    "plt_df=pf_test\n",
    "dipaly_index=[20,23,100,11,16,13]\n",
    "\n",
    "fig, axes = plt.subplots(1, np.size(dipaly_index) , figsize=(12,4))\n",
    "for idx, ax in zip(dipaly_index, axes.ravel()):\n",
    "    image = cv2.imread(rootlocation+plt_df['images_paths'][idx])\n",
    "    ax.grid(False)\n",
    "    ax.xaxis.set_visible(False)\n",
    "    ax.yaxis.set_visible(False)\n",
    "    ax.set_title(plt_df['labels'][idx] +'-'+ str(plt_df['indexs'][idx]) + ' | Pred- '+ str(plt_df['prediction'][idx]), size=8)\n",
    "    ax.imshow(image[:,:,::-1]) # plot image into the subplot"
   ]
  },
  {
   "cell_type": "code",
   "execution_count": null,
   "id": "f6d96787",
   "metadata": {},
   "outputs": [],
   "source": [
    "def display_random_img(class_names, images, labels):\n",
    "    index = np.random.randint(images.shape[0])\n",
    "    plt.figure()\n",
    "    plt.imshow(images[index])\n",
    "    plt.xticks([])\n",
    "    plt.yticks([])\n",
    "    plt.grid(False)\n",
    "    plt.title('Image #{} : '.format(index) + class_names[labels[index]])\n",
    "    plt.show()\n",
    "    \n",
    "\n",
    "#display_random_img (class_names, train_images, train_labels)\n",
    "display_random_img(class_names, test_images, pred_labels)"
   ]
  },
  {
   "cell_type": "markdown",
   "id": "962a0653",
   "metadata": {},
   "source": [
    "## Random Pic from Net"
   ]
  },
  {
   "cell_type": "code",
   "execution_count": null,
   "id": "9f4b9a19",
   "metadata": {},
   "outputs": [],
   "source": [
    "[(test_images, test_images_paths, test_labels, test_indexs)] = img_load('workingData\\Pictures\\_test\\\\pgender')"
   ]
  },
  {
   "cell_type": "code",
   "execution_count": null,
   "id": "780dae0c",
   "metadata": {},
   "outputs": [],
   "source": [
    "test_images = test_images / 255.0"
   ]
  },
  {
   "cell_type": "code",
   "execution_count": null,
   "id": "af79ff00",
   "metadata": {},
   "outputs": [],
   "source": [
    "predictions = model.predict(test_images)     # Vector of probabilities\n",
    "pred_labels = np.argmax(predictions, axis = 1) # We take the highest probability\n",
    "pred_labels"
   ]
  },
  {
   "cell_type": "code",
   "execution_count": null,
   "id": "8c094696",
   "metadata": {},
   "outputs": [],
   "source": [
    "pf_test = pd.DataFrame(test_images_paths, columns=['images_paths'])\n",
    "pf_test['labels']=test_labels\n",
    "pf_test['indexs']=test_indexs\n",
    "pf_test['prediction']=pred_labels\n",
    "pf_test\n",
    "#pf_test[pf_test['indexs'] != pf_test['prediction']]"
   ]
  },
  {
   "cell_type": "code",
   "execution_count": null,
   "id": "cdfc7dc4",
   "metadata": {},
   "outputs": [],
   "source": [
    "rootlocation='workingData\\Pictures\\_test\\pgender\\\\'\n",
    "plt_df=pf_test\n",
    "dipaly_index=[0,1,2,3,4,5,6]\n",
    "\n",
    "fig, axes = plt.subplots(1, np.size(dipaly_index) , figsize=(12,4))\n",
    "for idx, ax in zip(dipaly_index, axes.ravel()):\n",
    "    image = cv2.imread(rootlocation+plt_df['images_paths'][idx])\n",
    "    ax.grid(False)\n",
    "    ax.xaxis.set_visible(False)\n",
    "    ax.yaxis.set_visible(False)\n",
    "    ax.set_title(plt_df['labels'][idx] +'-'+ str(plt_df['indexs'][idx]) + ' | Pred- '+ str(plt_df['prediction'][idx]), size=8)\n",
    "    ax.imshow(image[:,:,::-1]) # plot image into the subplot"
   ]
  },
  {
   "cell_type": "code",
   "execution_count": null,
   "id": "2642c994",
   "metadata": {},
   "outputs": [],
   "source": []
  }
 ],
 "metadata": {
  "kernelspec": {
   "display_name": "tf",
   "language": "python",
   "name": "tf"
  },
  "language_info": {
   "codemirror_mode": {
    "name": "ipython",
    "version": 3
   },
   "file_extension": ".py",
   "mimetype": "text/x-python",
   "name": "python",
   "nbconvert_exporter": "python",
   "pygments_lexer": "ipython3",
   "version": "3.10.8"
  }
 },
 "nbformat": 4,
 "nbformat_minor": 5
}
